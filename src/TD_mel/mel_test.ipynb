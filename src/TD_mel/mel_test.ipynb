{
 "cells": [
  {
   "cell_type": "code",
   "execution_count": 1,
   "id": "6bcc33dd",
   "metadata": {},
   "outputs": [],
   "source": [
    "import numpy as np\n",
    "import math as m\n",
    "import matplotlib.pyplot as plt\n",
    "import tensorflow as tf\n",
    "import numpy.matlib"
   ]
  },
  {
   "cell_type": "code",
   "execution_count": 2,
   "id": "ced9d395",
   "metadata": {},
   "outputs": [
    {
     "data": {
      "text/plain": [
       "<Figure size 432x288 with 0 Axes>"
      ]
     },
     "metadata": {},
     "output_type": "display_data"
    },
    {
     "data": {
      "image/png": "[encoded data removed]",
      "text/plain": [
       "<Figure size 432x288 with 1 Axes>"
      ]
     },
     "metadata": {
      "needs_background": "light"
     },
     "output_type": "display_data"
    }
   ],
   "source": [
    "#compute the phi wavelet to approximate the triangular frequency filter\n",
    "\n",
    "t = np.arange(-10,10,0.1)\n",
    "def Hanning(t:np.array, s:int)->float :\n",
    "    #compute the Hannin window\n",
    "    #variable time is a time vector\n",
    "    #s is the width of the window\n",
    "    return np.where(abs(t) <=0.5*s, 0.5+0.5*np.cos(2*m.pi*t/s), 0)\n",
    "\n",
    "def phi_n(eta_n:float,w_n:float, t:float) -> float :\n",
    "    #psi_n is the triangle frequency filter, approximated by phi_n\n",
    "    #t is time\n",
    "    #triangles centered on eta_n \n",
    "    #full width at half maximum (FWHM) w_n\n",
    "    sigma_n = 2*m.sqrt(2*m.log(2))/w_n\n",
    "    \n",
    "    phi_n = np.exp(-2*m.pi*1j*eta_n*t) * (1/m.sqrt(2*m.pi*sigma_n)) * np.exp((-t**2)/2*sigma_n**2)\n",
    "    #what about the normalisation?\n",
    "    return phi_n\n",
    "\n",
    "def compute_filter_bank(N:int,w:int, f_start:int,f_end:int) ->np.array:\n",
    "    #N is the number of filters\n",
    "    #w is the width in number of samples\n",
    "    #fstart is the beginning of the frequencies covered by the filterbank and fends its end\n",
    "    #duree is the width of the filter (length of the window/sample frequency) in number of samples\n",
    "    #It seems that w and duree are always the same\n",
    "    #return filter_bank an array with at each column a filter bank, size(duree,N)\n",
    "    duree = w\n",
    "    filter_bank_phi = np.zeros((duree,2*N))\n",
    "    \n",
    "    #compute mel-scale:\n",
    "    f_range = np.arange(f_start,f_end,1)\n",
    "    mel_range = 2595*np.log10(1+f_range/700)\n",
    "    #take N equaly spaced frequencies\n",
    "    idx = np.round(np.linspace(0, len(mel_range) - 1, N)).astype(int)\n",
    "    eta_vect = mel_range[idx]\n",
    "    \n",
    "    #create time vector for hanning and gabor\n",
    "    #centered on 0 and its length is duree\n",
    "    t = np.arange(-duree/2,duree/2,1)\n",
    "    i=0\n",
    "    for eta_n in eta_vect:\n",
    "        temp_complex = phi_n(eta_n, w, t)\n",
    "        filter_bank_phi[:,2*i] = temp_complex.real\n",
    "        filter_bank_phi[:,2*i+1] = temp_complex.imag\n",
    "        i=i+1\n",
    "    return filter_bank_phi\n",
    "    \n",
    "\n",
    "\n",
    "# plt.figure()\n",
    "# fig, ax = plt.subplots()\n",
    "# print(Hanning(t,2))\n",
    "# ax.plot(t,Hanning(t,2))\n",
    "# plt.show()\n",
    "\n",
    "# plt.figure()\n",
    "# fig, ax = plt.subplots()\n",
    "# print(phi_n(1,20,t))\n",
    "# ax.plot(t,phi_n(1,20,t))\n",
    "# plt.show()\n",
    "duree = 400\n",
    "filter_bank_phi = compute_filter_bank(N = 40,w = 400, f_start = 64,f_end = 8000)\n",
    "t = np.arange(-duree/2,duree/2,1)\n",
    "plt.figure()\n",
    "fig, ax = plt.subplots()\n",
    "ax.plot(t,filter_bank_phi[:,1])\n",
    "plt.show()\n"
   ]
  },
  {
   "cell_type": "code",
   "execution_count": 3,
   "id": "c11ea735",
   "metadata": {},
   "outputs": [],
   "source": [
    "class ExampleRandomNormal(tf.keras.initializers.Initializer):\n",
    "\n",
    "    def __init__(self, mean, stddev):\n",
    "      self.mean = mean\n",
    "      self.stddev = stddev\n",
    "\n",
    "    def __call__(self, shape, dtype=None):\n",
    "      return tf.random.normal(\n",
    "          shape, mean=self.mean, stddev=self.stddev, dtype=dtype)\n",
    "\n",
    "    def get_config(self):  # To support serialization\n",
    "      return {'mean': self.mean, 'stddev': self.stddev}"
   ]
  },
  {
   "cell_type": "code",
   "execution_count": null,
   "id": "3d18c205",
   "metadata": {},
   "outputs": [],
   "source": [
    "#input is a 1d 400 steps long\n",
    "#filters\tInteger, the dimensionality of the output space (i.e. the number of output filters in the convolution).\n",
    "#kernel_size\tAn integer or tuple/list of a single integer, specifying the length of the 1D convolution window.\n",
    "\n",
    "\n",
    "length = 10002\n",
    "batch_size = 4\n",
    "input_shape = (batch_size, length, 1)\n",
    "x = tf.random.normal(input_shape)\n",
    "#Initializer = tf.keras.initializers.ExampleRandomNormal()\n",
    "def init_TDmel(shape, dtype=None):\n",
    "    #initialize with the TD mel filterbank\n",
    "    #shape is (width of the filter, 1, number of filters)\n",
    "    weight =  compute_filter_bank(N = int(shape[2]*0.5),w = shape[0], f_start = 64,f_end = 8000)\n",
    "    return weight.reshape(shape)\n",
    "\n",
    "def init_Hanning(shape, dtype=None):\n",
    "    print(shape)\n",
    "    t = np.arange(-duree/2,duree/2,1)\n",
    "    weight = Hanning(t, s=shape[0])\n",
    "    weight = np.matlib.repmat(weight, 1, shape[2])\n",
    "\n",
    "    return weight.reshape(shape)\n",
    "\n",
    "#Initializer = \n",
    "y = tf.keras.layers.Conv1D(filters = 80, kernel_size = 400, activation='relu',\n",
    "                          bias_initializer = tf.keras.initializers.Zeros(), kernel_initializer = init_TDmel)(x)\n",
    "#compute L2 Norm\n",
    "a = y[:,:,::2]#even elements (real part)\n",
    "b = y[:,:,1::2]#uneven elements (imaginary part)\n",
    "y = np.sqrt(a+b)#norm of elements (only 40 channels now)\n",
    "#apply haning window separately on each 40 channels (need to repmat hanning and do grouped conv)\n",
    "y = tf.keras.layers.Conv1D(filters = 40, kernel_size = 400, groups = 40, strides = 160, activation='relu',\n",
    "                          bias_initializer = tf.keras.initializers.Zeros(), kernel_initializer = init_Hanning)(y)\n",
    "y = np.abs(y)\n",
    "y = np.log(1+y)\n",
    "\n",
    "print(y.shape)"
   ]
  },
  {
   "cell_type": "code",
   "execution_count": null,
   "id": "430eb12e",
   "metadata": {},
   "outputs": [],
   "source": [
    "\n",
    "plt.figure()\n",
    "fig, ax = plt.subplots()\n",
    "ax.plot(np.arange(58),y[1,:,6])\n",
    "plt.show()"
   ]
  },
  {
   "cell_type": "code",
   "execution_count": null,
   "id": "8c5d5641",
   "metadata": {},
   "outputs": [],
   "source": []
  }
 ],
 "metadata": {
  "kernelspec": {
   "display_name": "Python 3 (ipykernel)",
   "language": "python",
   "name": "python3"
  },
  "language_info": {
   "codemirror_mode": {
    "name": "ipython",
    "version": 3
   },
   "file_extension": ".py",
   "mimetype": "text/x-python",
   "name": "python",
   "nbconvert_exporter": "python",
   "pygments_lexer": "ipython3",
   "version": "3.9.7"
  }
 },
 "nbformat": 4,
 "nbformat_minor": 5
}
